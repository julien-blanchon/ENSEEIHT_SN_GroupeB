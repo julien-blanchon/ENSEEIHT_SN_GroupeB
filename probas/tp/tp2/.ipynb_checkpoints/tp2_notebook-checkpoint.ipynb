{
 "cells": [
  {
   "cell_type": "markdown",
   "metadata": {},
   "source": [
    "# TP2 – Compression d’un signal"
   ]
  },
  {
   "cell_type": "markdown",
   "metadata": {},
   "source": [
    "## Exercice d’initiation à Matlab"
   ]
  },
  {
   "cell_type": "code",
   "execution_count": 95,
   "metadata": {},
   "outputs": [
    {
     "name": "stdout",
     "output_type": "stream",
     "text": [
      "Texte : Ceci est un texte en Francais. Il contient des lettres (majuscules et minuscules), des chiffres de zero (0) a neuf (9) et quelques caracteres de ponctuation comme la virgule (,), le point (.), les deux points (:) etc. Par contre il ne contient pas de caractere accentue, de guillemets, dapostrophe ou de cedille, qui ne sont pas des caracteres ASCII standards. Il sert simplement a illustrer la loi de probabilite de lalphabet francais. En fait nimporte quel texte convient, du moment quil soit assez long pour illustrer la langue francaise. Du coup on met bout a bout des phrases sans reel lien logique, mais qui permettront dobtenir un histogramme assez representatif de la langue francaise. Normalement le caractere le plus present est lespace, suivi du e, du s, a, i, t... Ce genre dhistogramme est tres utile en cryptographie : chaque langue possede son propre histogramme, ce qui permet de reconnaitre la langue dun texte code meme si les lettres ont ete changees. Evidemment, un bon outil de cryptographie fera en sorte de ne pas chiffrer deux occurrences dune meme lettre de la meme facon, sinon ce serait trop simple ! Pour finir ce texte, jajoute un k et un w, parce quil ny en avait pas encore.\n"
     ]
    },
    {
     "data": {
      "image/png": "[encoded data removed]",
      "text/plain": [
       "<IPython.core.display.Image object>"
      ]
     },
     "metadata": {},
     "output_type": "display_data"
    }
   ],
   "source": [
    "%% file exercice_Matlab.m\n",
    "clear;\n",
    "close all;\n",
    "taille_ecran = get(0,'ScreenSize');\n",
    "L = taille_ecran(3);\n",
    "H = taille_ecran(4);\n",
    "\n",
    "% Definition d'un alphabet ASCII avec les lettres A..Z, a..z, les chiffres 1..9 et la ponctuation :\n",
    "taille_alphabet = 128;\n",
    "codes_ASCII = transpose(0:taille_alphabet-1);\t\t% Vecteur (colonne) de codes ASCII\n",
    "alphabet = char(codes_ASCII);\t\t\t\t% Vecteur de caracteres ASCII\n",
    "\n",
    "% Texte ecrit en francais :\n",
    "texte = 'Ceci est un texte en Francais. Il contient des lettres (majuscules et minuscules), des chiffres de zero (0) a neuf (9) et quelques caracteres de ponctuation comme la virgule (,), le point (.), les deux points (:) etc. Par contre il ne contient pas de caractere accentue, de guillemets, dapostrophe ou de cedille, qui ne sont pas des caracteres ASCII standards. Il sert simplement a illustrer la loi de probabilite de lalphabet francais. En fait nimporte quel texte convient, du moment quil soit assez long pour illustrer la langue francaise. Du coup on met bout a bout des phrases sans reel lien logique, mais qui permettront dobtenir un histogramme assez representatif de la langue francaise. Normalement le caractere le plus present est lespace, suivi du e, du s, a, i, t... Ce genre dhistogramme est tres utile en cryptographie : chaque langue possede son propre histogramme, ce qui permet de reconnaitre la langue dun texte code meme si les lettres ont ete changees. Evidemment, un bon outil de cryptographie fera en sorte de ne pas chiffrer deux occurrences dune meme lettre de la meme facon, sinon ce serait trop simple ! Pour finir ce texte, jajoute un k et un w, parce quil ny en avait pas encore.';\n",
    "\n",
    "% Affichage du texte :\n",
    "fprintf('Texte : %s\\n',texte);\n",
    "\n",
    "% Frequences relatives des lettres dans le texte :\n",
    "frequences = calcul_frequences(texte, alphabet);\n",
    "\n",
    "% Selection des caracteres de frequences non nulles :\n",
    "[selection_frequences,selection_alphabet] = selection(frequences, alphabet);\n",
    "\n",
    "% Tri des caracteres par frequences decroissantes :\n",
    "[frequences_triees, indices_frequences_triees] = tri(selection_frequences);\n",
    "\n",
    "% Histogramme des frequences des differents caracteres :\n",
    "figure('Name','Histogramme des caracteres du texte','Position',[0.33*L,0,0.67*L,H]);\n",
    "bar(frequences_triees);\n",
    "set(gca,'XTick',[1:length(alphabet)]);\n",
    "set(gca,'XTickLabel',selection_alphabet(indices_frequences_triees));\n",
    "xlabel('Alphabet','FontSize',15);\n",
    "ylabel('Frequence','FontSize',15);\n",
    "set(gca,'FontSize',20);\n",
    "\n",
    "save exercice_Matlab;"
   ]
  },
  {
   "cell_type": "code",
   "execution_count": 80,
   "metadata": {},
   "outputs": [
    {
     "name": "stdout",
     "output_type": "stream",
     "text": [
      "Created file '/home/jblancho/Le-TP-de-Keunotor/probas/tp/tp2/calcul_frequences.m'.\n"
     ]
    }
   ],
   "source": [
    "%%file calcul_frequences.m\n",
    "\n",
    "function frequences = calcul_frequences(texte, alphabet)\n",
    "    % calcul_frequences calcule les fréquences relatives des caractères dans le texte passé en paramètre.\n",
    "    taille_texte = length(texte);\n",
    "    taille_alphabet = length(alphabet);\n",
    "    frequences = zeros(taille_alphabet, 1);\n",
    "    for i = 1:taille_alphabet\n",
    "        frequences(i) = length(find(texte==alphabet(i)));\n",
    "    end\n",
    "    frequences = frequences/taille_texte;\n",
    "end"
   ]
  },
  {
   "cell_type": "code",
   "execution_count": 81,
   "metadata": {},
   "outputs": [
    {
     "name": "stdout",
     "output_type": "stream",
     "text": [
      "Created file '/home/jblancho/Le-TP-de-Keunotor/probas/tp/tp2/selection.m'.\n"
     ]
    }
   ],
   "source": [
    "%%file selection.m\n",
    "\n",
    "function [selection_frequences,selection_alphabet] = selection(frequences, alphabet)\n",
    "    % selection sélectionne les caractères de fréquences strictement positives, et les fréquences associées.\n",
    "    mask = find(frequences~=0);\n",
    "    selection_frequences = frequences(mask);\n",
    "    selection_alphabet = alphabet(mask);\n",
    "end"
   ]
  },
  {
   "cell_type": "code",
   "execution_count": 93,
   "metadata": {},
   "outputs": [
    {
     "name": "stdout",
     "output_type": "stream",
     "text": [
      "Created file '/home/jblancho/Le-TP-de-Keunotor/probas/tp/tp2/tri.m'.\n"
     ]
    }
   ],
   "source": [
    "%%file tri.m\n",
    "\n",
    "function [frequences_triees, indices_frequences_triees] = tri(selection_frequences)\n",
    "    % selection sélectionne les caractères de fréquences strictement positives, et les fréquences associées.\n",
    "    [frequences_triees, indices_frequences_triees] = sort(selection_frequences);\n",
    "end"
   ]
  },
  {
   "cell_type": "markdown",
   "metadata": {},
   "source": [
    "## Exercice 1 : codage de Huffman d’un texte"
   ]
  },
  {
   "cell_type": "code",
   "execution_count": 105,
   "metadata": {},
   "outputs": [
    {
     "name": "stdout",
     "output_type": "stream",
     "text": [
      "Created file '/home/jblancho/Le-TP-de-Keunotor/probas/tp/tp2/exercice_1.m'.\n"
     ]
    }
   ],
   "source": [
    "%%file exercice_1.m\n",
    "clear;\n",
    "close all;\n",
    "load exercice_Matlab;\n",
    "\n",
    "% Encodage du texte :\n",
    "alphabet_cell = num2cell(selection_alphabet);\t\t\t% Format 'cell' requis par la fonction huffmandict\n",
    "dico = huffmandict(alphabet_cell,selection_frequences);\t\t% dico{j,2} = code binaire du caractere ASCII dico{j,1}\n",
    "texte_encode = huffmanenco(texte,dico);\n",
    "fprintf('Codage binaire du texte : %s\\n',strrep(num2str(texte_encode),' ',''));\n",
    "\n",
    "% Calcul du coefficient de compression obtenu par le codage de Huffman :\n",
    "coeff_compression = coeff_compression_texte(texte,texte_encode);\n",
    "fprintf('Coefficient de compression : %.4f\\n',coeff_compression);\n",
    "\n",
    "% Decodage du texte : \n",
    "texte_decode = huffmandeco(texte_encode,dico);\n",
    "\n",
    "% Verification de l'integrite du texte decode :\n",
    "integrite_decodage = ~strcmp(texte,texte_decode);\n",
    "if integrite_decodage\n",
    "\tfprintf('Integrite du decodage OK\\n');\n",
    "else\n",
    "\tfprintf('Probleme d''integrite du decodage !\\n');\n",
    "end\n"
   ]
  },
  {
   "cell_type": "code",
   "execution_count": 110,
   "metadata": {},
   "outputs": [],
   "source": [
    "clear;\n",
    "close all;\n",
    "load exercice_Matlab;"
   ]
  },
  {
   "cell_type": "code",
   "execution_count": 111,
   "metadata": {},
   "outputs": [
    {
     "name": "stdout",
     "output_type": "stream",
     "text": [
      "Codage binaire du texte : 0011000010100011111100000101001011000000100101000001100101101111011001000001010100001101001110101110001010001111000111010010011011000011101111111000001110010110100110111001010100110000110000101001000111101001100110101101010010000011001111001100000110000000100100100111001001111010100100001001100001100111101010001001001001110010011110101001001100100111000001100001010010000011100110101110110110110110101101010010001100001000000110001001010110010100000110011110100001000110010000100000010100100010011011000000110011110100110100110010000010011000001110100010001011110111010001000101001000001111000101110000011101100101011010100100011000010000011110010110100011101100010010000110111000101101000000111001011100111001010000111110000000111011011101011110101001001111010000001100110111000011001001110000011110100000111100101111010100110000001100110011011001100100111000001111010100100011000010001001101111000011110010111101010011010010000011001111010000000110010000010011000111001101100011010001010001011000001110010110100110101101000011101111000101001000000111001011010011011100101010011000001111100010010001100001000000111100010111000001110110010101101000010000011100111010101001100010001001110000011000010000110101001001110111111110101100101001101001011100000110001000011110010110010110101100101011110011010010000001010010000011000010000001110101100011101111111101001110000001110100010011100001010010000100100101101001100000111110001001000110000101001000001111000101110000011101100101011010100100011010011001101001000001100001011101110111011100010010110100010101100010001011110001001001101100001110111111100010010101011011000010011110110010111111110101100101010100110000100000011101111111100100100101101011010101100011111000000111100101111000011000010000011111011001011101110100011011101110111111100110010000110000100001111100011110111100110101000110111001001100001101101011100010100011110001110100100110110001101000111010000110110100011100110000101011101100101111001011011011001000001110100010001011110000110010110111101100100000011100101101001110110111001010100110011100000110000010000011001001011100101010100110000011101000100111011110001001001011110011000010001001100101000110001000011110010110101101010000111100101001001011000111011111111001001001011010110101011000111110000001111100010101101010010001000011011010111000101000111100011101001010001101100011010011110010000000111001010010001111000001011010000110010100110000110111000101001000110000100000011011100010100100011000011000010100100001111001101010111000100101010010001001100010101001000101101001011110001111111001010100001111001011101011110011101000100010011100000110011000111010010000111010001001110000011110101011110010100110011010110010110100110000110000010111011100110010101011101011000001001010000001101011101001011000101110101101110001100111001010000100010011001010001100010000101101001111101101010010101010011010000110111011011000011000010000111110000001111100010101101010010001000011011010111000101000111100011101001010001101100011010010010010110111100110001111010110010101010011000011110100000011110001011100000111011001010110100001111010000011111111001001001000011111011010100101010100110000010100101100001111010100101111100000111010011100000100100100111001110110111000011000001000000100111000001100000100000100101110000010000111000001110011100000011000110110011011001101100000110000101000011010101010101011010000110000011010111010010110001011101011011100011001110010100000101001011000001101011010100100000100011011101111010000010101000000111101100110001101111011000101110101101110000111100110101110010000110100000000001110011010100001110100010001000011111000101011010100100010000011110010110011001010110000100001001001011010000011111011001010111110110100000011010111010010110001011101011011100011001110010100111000000011101000001110100010011100000111101010111100101001100001100001000010110100011100101101010101000111001101011010000111110000001111100010101101010010001000011000001001010000011001011011110110010000001110010111000010000110010101100101000010011110000111101010010001111010011001101011010100100000101101001100000100110010000001110011010100010101101010100101001001101100011010001101110110111011000010110011100101010100110011100000001001010000110111000101101000000101001000110111011110001100001000000111101100110001101111011000101110101101110000111100110101110010000110110010101110000000101010000100100101101101100100001100001000010100100000111110001001000001110011010111011011011011010110101011000110000100010011011110000010100111001110010010111011010101000111010100100011000001001010010000110010101100101000011110100110011010110100001100001000011111000000110010101100101000011011010000011100101101001110000010011110101000101101000000111010000100101010111000111001100000110101100101011110001001111011001011111111010000110100001100011010001000101001001011000110110111010101110101100000111010000011001011011110110010011100000001100000100000110000000101001000110010000001001010000110100101100001001100000010010100001101001010011100000011111000101100111010000011101000100111011110001010001100011000010101000010000111011010001110011000001111100010010000101010001110010110110100011011\n"
     ]
    }
   ],
   "source": [
    "% Encodage du texte :\n",
    "alphabet_cell = num2cell(selection_alphabet);\t\t\t% Format 'cell' requis par la fonction huffmandict\n",
    "dico = huffmandict(alphabet_cell,selection_frequences);\t\t% dico{j,2} = code binaire du caractere ASCII dico{j,1}\n",
    "texte_encode = huffmanenco(texte,dico);\n",
    "fprintf('Codage binaire du texte : %s\\n',strrep(num2str(texte_encode),' ',''));"
   ]
  },
  {
   "cell_type": "code",
   "execution_count": 124,
   "metadata": {},
   "outputs": [
    {
     "name": "stdout",
     "output_type": "stream",
     "text": [
      "Created file '/home/jblancho/Le-TP-de-Keunotor/probas/tp/tp2/coeff_compression_texte.m'.\n"
     ]
    }
   ],
   "source": [
    "%%file coeff_compression_texte.m\n",
    "function coeff_compression = coeff_compression_texte(texte, texte_encode)\n",
    "    %  la fonction coeff_compression_texte, qui calcule le coefficient de compression atteint par le\n",
    "    % codage de Huffman, défini comme le rapport entre le nombre de bits nécessaires pour encoder un texte dans sa\n",
    "    % version d’origine, sachant qu’en ASCII, les caractères sont encodés sur 8 bits, et le nombre de bits du même\n",
    "    % texte encodé par le codage de Huffman.\n",
    "    texte_mem = length(texte)*8; %Car chaque caractères encodés sur 8 bits\n",
    "    texte_encode_mem = length(texte_encode);\n",
    "    coeff_compression = texte_mem/texte_encode_mem;\n",
    "end"
   ]
  },
  {
   "cell_type": "code",
   "execution_count": 126,
   "metadata": {},
   "outputs": [
    {
     "name": "stdout",
     "output_type": "stream",
     "text": [
      "Coefficient de compression : 1.8689\n"
     ]
    }
   ],
   "source": [
    "% Calcul du coefficient de compression obtenu par le codage de Huffman :\n",
    "coeff_compression = coeff_compression_texte(texte,texte_encode);\n",
    "fprintf('Coefficient de compression : %.4f\\n',coeff_compression);"
   ]
  },
  {
   "cell_type": "code",
   "execution_count": 113,
   "metadata": {},
   "outputs": [],
   "source": [
    "% Decodage du texte : \n",
    "texte_decode = huffmandeco(texte_encode,dico);"
   ]
  },
  {
   "cell_type": "code",
   "execution_count": 114,
   "metadata": {},
   "outputs": [
    {
     "name": "stdout",
     "output_type": "stream",
     "text": [
      "Integrite du decodage OK\n"
     ]
    }
   ],
   "source": [
    "% Verification de l'integrite du texte decode :\n",
    "integrite_decodage = ~strcmp(texte,texte_decode);\n",
    "if integrite_decodage\n",
    "\tfprintf('Integrite du decodage OK\\n');\n",
    "else\n",
    "\tfprintf('Probleme d''integrite du decodage !\\n');\n",
    "end"
   ]
  },
  {
   "cell_type": "markdown",
   "metadata": {},
   "source": [
    "## Exercice 2 : codage de Huffman d’une image"
   ]
  },
  {
   "cell_type": "code",
   "execution_count": 129,
   "metadata": {},
   "outputs": [
    {
     "name": "stdout",
     "output_type": "stream",
     "text": [
      "Created file '/home/jblancho/Le-TP-de-Keunotor/probas/tp/tp2/exercice_2.m'.\n"
     ]
    }
   ],
   "source": [
    "%%file exercice_2.m\n",
    "\n",
    "clear;\n",
    "close all;\n",
    "\n",
    "% Codage de Huffman de l'image initiale :\n",
    "load exercice_1_TP1;\n",
    "frequences = histogramme/sum(histogramme);\n",
    "dico = huffmandict(I_min:I_max,frequences);\n",
    "\n",
    "% Calcul du coefficient de compression obtenu par le codage de Huffman :\n",
    "coeff_compression_avant_decorrelation = coeff_compression_image(histogramme,dico);\n",
    "fprintf('Coefficient de compression avant decorrelation : %.4f\\n',coeff_compression_avant_decorrelation);\n",
    "\n",
    "% Codage de Huffman de l'image decorrelee :\n",
    "load exercice_2_TP1;\n",
    "set(0,'RecursionLimit',550);\t% Plus de 500 appels recursifs (nombre d'entiers a coder : 2*I_max+1 = 511 > 500)\n",
    "frequences = histogramme/sum(histogramme);\n",
    "dico = huffmandict(I_min:I_max,frequences);\n",
    "\n",
    "% Calcul du coefficient de compression obtenu par decorrelation prealable au codage de Huffman :\n",
    "coeff_compression_apres_decorrelation = coeff_compression_image(histogramme,dico);\n",
    "fprintf('Coefficient de compression apres decorrelation : %.4f\\n',coeff_compression_apres_decorrelation);\n",
    "\n",
    "% Calcul du gain en compression :\n",
    "fprintf('Gain en compression : %.4f\\n',coeff_compression_apres_decorrelation/coeff_compression_avant_decorrelation);\n"
   ]
  },
  {
   "cell_type": "code",
   "execution_count": 138,
   "metadata": {},
   "outputs": [],
   "source": [
    "clear;\n",
    "close all;"
   ]
  },
  {
   "cell_type": "code",
   "execution_count": 139,
   "metadata": {},
   "outputs": [],
   "source": [
    "% Codage de Huffman de l'image initiale :\n",
    "load exercice_1_TP1;\n",
    "frequences = histogramme/sum(histogramme);\n",
    "dico = huffmandict(I_min:I_max,frequences);"
   ]
  },
  {
   "cell_type": "code",
   "execution_count": 182,
   "metadata": {},
   "outputs": [
    {
     "name": "stdout",
     "output_type": "stream",
     "text": [
      "\n",
      "image_mem =\n",
      "\n",
      "      524288\n",
      "\n",
      "\n",
      "ans =\n",
      "\n",
      "   256     1\n",
      "\n",
      "\n",
      "ans =\n",
      "\n",
      "      461690\n",
      "\n"
     ]
    }
   ],
   "source": [
    "nbr_pixel = sum(histogramme);\n",
    "image_mem = nbr_pixel*8\n",
    "a = cellfun('length', dico);\n",
    "a = a(:, 2);\n",
    "size(a)\n",
    "histogramme*a"
   ]
  },
  {
   "cell_type": "code",
   "execution_count": 189,
   "metadata": {},
   "outputs": [
    {
     "name": "stdout",
     "output_type": "stream",
     "text": [
      "Created file '/home/jblancho/Le-TP-de-Keunotor/probas/tp/tp2/coeff_compression_image.m'.\n"
     ]
    }
   ],
   "source": [
    "%%file coeff_compression_image.m\n",
    "function coeff_compression = coeff_compression_image(histogramme,dico)\n",
    "    nbr_pixel = sum(histogramme);\n",
    "    image_mem = nbr_pixel*8; %Car chaque pixel utilise 2^8=256.\n",
    "    mem_codage_intensite = cellfun('length', dico); %Matrice des tailles de toute les cellules.\n",
    "    mem_codage_intensite = mem_codage_intensite(:, 2); %Vecteur qui donne le nbr de bits neccessaire pour coder chaque intensite entre 0 et 255.\n",
    "    image_encode_mem = histogramme*mem_codage_intensite;\n",
    "    coeff_compression = image_mem/image_encode_mem;\n",
    "end"
   ]
  },
  {
   "cell_type": "code",
   "execution_count": 191,
   "metadata": {},
   "outputs": [
    {
     "name": "stdout",
     "output_type": "stream",
     "text": [
      "Coefficient de compression avant decorrelation : 1.1356\n"
     ]
    }
   ],
   "source": [
    "% Calcul du coefficient de compression obtenu par le codage de Huffman :\n",
    "coeff_compression_avant_decorrelation = coeff_compression_image(histogramme,dico);\n",
    "fprintf('Coefficient de compression avant decorrelation : %.4f\\n',coeff_compression_avant_decorrelation);"
   ]
  },
  {
   "cell_type": "code",
   "execution_count": 192,
   "metadata": {},
   "outputs": [],
   "source": [
    "% Codage de Huffman de l'image decorrelee :\n",
    "load exercice_2_TP1;\n",
    "set(0,'RecursionLimit',550);\t% Plus de 500 appels recursifs (nombre d'entiers a coder : 2*I_max+1 = 511 > 500)\n",
    "frequences = histogramme/sum(histogramme);\n",
    "dico = huffmandict(I_min:I_max,frequences);"
   ]
  },
  {
   "cell_type": "code",
   "execution_count": 193,
   "metadata": {},
   "outputs": [
    {
     "name": "stdout",
     "output_type": "stream",
     "text": [
      "Coefficient de compression apres decorrelation : 1.5752\n"
     ]
    }
   ],
   "source": [
    "% Calcul du coefficient de compression obtenu par decorrelation prealable au codage de Huffman :\n",
    "coeff_compression_apres_decorrelation = coeff_compression_image(histogramme,dico);\n",
    "fprintf('Coefficient de compression apres decorrelation : %.4f\\n',coeff_compression_apres_decorrelation);"
   ]
  },
  {
   "cell_type": "code",
   "execution_count": 194,
   "metadata": {},
   "outputs": [
    {
     "name": "stdout",
     "output_type": "stream",
     "text": [
      "Gain en compression : 1.3871\n"
     ]
    }
   ],
   "source": [
    "% Calcul du gain en compression :\n",
    "fprintf('Gain en compression : %.4f\\n',coeff_compression_apres_decorrelation/coeff_compression_avant_decorrelation);"
   ]
  },
  {
   "cell_type": "markdown",
   "metadata": {},
   "source": [
    "## Exercice 3 : codage arithmétique d’un texte (facultatif)"
   ]
  },
  {
   "cell_type": "code",
   "execution_count": 301,
   "metadata": {},
   "outputs": [
    {
     "name": "stdout",
     "output_type": "stream",
     "text": [
      "Created file '/home/jblancho/Le-TP-de-Keunotor/probas/tp/tp2/exercice_3.m'.\n"
     ]
    }
   ],
   "source": [
    "%%file exercice_3.m\n",
    "\n",
    "clear;\n",
    "close all;\n",
    "\n",
    "% Definition d'un alphabet ASCII avec les lettres A..Z, a..z, les chiffres 1..9 et la ponctuation :\n",
    "taille_alphabet = 128;\n",
    "codes_ASCII = transpose(0:taille_alphabet-1);\t\t% Vecteur (colonne) de codes ASCII\n",
    "alphabet = char(codes_ASCII);\t\t\t\t% Vecteur de caracteres ASCII\n",
    "\n",
    "% Texte a encoder :\n",
    "texte = 'Taratatatsointsoin';\n",
    "\n",
    "% Affichage du texte :\n",
    "fprintf('Texte : %s\\n',texte);\n",
    "\n",
    "% Frequences d'apparition des lettres dans le texte :\n",
    "frequences = calcul_frequences(texte,alphabet);\n",
    "\n",
    "% Selection des caracteres de frequences non nulles :\n",
    "[selection_frequences,selection_alphabet] = selection(frequences,alphabet);\n",
    "\n",
    "% Partitionnement de l'intervalle [0,1] :\n",
    "bornes = partitionnement(selection_frequences);\n",
    "\n",
    "% Codage arithmetique :\n",
    "[borne_inf,borne_sup] = codage_arithmetique(texte,selection_alphabet,bornes);\n",
    "\n",
    "% Choix (arbitraire) d'un nombre compris dans l'intervalle [borne_inf,borne_sup] pour encoder le texte :\n",
    "k = 1;\n",
    "while (floor(k*borne_inf)==floor(k*borne_sup))\n",
    "\tk = 10*k;\t\n",
    "end\n",
    "texte_encode = floor(k*borne_sup)/k;\n",
    "fprintf('Texte encode : %.15f\\n',texte_encode);\n",
    "\n",
    "% Decodage du texte encode :\n",
    "texte_decode = '';\n",
    "texte_encode_courant = texte_encode;\n",
    "for i = 1:length(texte)\n",
    "\tc = find((texte_encode_courant>bornes(1,:))&(texte_encode_courant<bornes(2,:)));\t% Identification du caractere\n",
    "\ttexte_decode = [texte_decode selection_alphabet(c)];\t\t\t\t% Concatenation du caractere\n",
    "\ttexte_encode_courant = (texte_encode_courant-bornes(1,c))/selection_frequences(c)';\t% Soustraction de la borne inferieure et division par la probabilite pour obtenir le caractere suivant\n",
    "    %%ERREUR ?? selection_frequences(c)'\n",
    "end\n",
    "fprintf('Texte decode : %s\\n',texte_decode);\n",
    "\n",
    "% Calcul du nombre de bits necessaires pour encoder la partie decimale :\n",
    "dec_texte_encode = texte_encode*k;\t\t\t\t\t% Partie decimale\n",
    "nb_bits_codage_arithmetique = length(dec2bin(dec_texte_encode));\t% Conversion de la partie decimale en binaire (dec2bin)\n",
    "fprintf('Nombre de bits du codage arithmetique : %d\\n',nb_bits_codage_arithmetique);\n",
    "\n",
    "% Comparaison avec le codage de Huffman :\n",
    "dico = huffmandict(num2cell(selection_alphabet),selection_frequences);\n",
    "texte_encode = huffmanenco(texte,dico);\n",
    "nb_bits_codage_Huffman = length(texte_encode);\n",
    "fprintf('Nombre de bits du codage de Huffman : %d\\n',nb_bits_codage_Huffman);\n"
   ]
  },
  {
   "cell_type": "code",
   "execution_count": 195,
   "metadata": {},
   "outputs": [],
   "source": [
    "clear;\n",
    "close all;"
   ]
  },
  {
   "cell_type": "code",
   "execution_count": 196,
   "metadata": {},
   "outputs": [],
   "source": [
    "% Definition d'un alphabet ASCII avec les lettres A..Z, a..z, les chiffres 1..9 et la ponctuation :\n",
    "taille_alphabet = 128;\n",
    "codes_ASCII = transpose(0:taille_alphabet-1);\t\t% Vecteur (colonne) de codes ASCII\n",
    "alphabet = char(codes_ASCII);\t\t\t\t% Vecteur de caracteres ASCII"
   ]
  },
  {
   "cell_type": "code",
   "execution_count": 197,
   "metadata": {},
   "outputs": [
    {
     "name": "stdout",
     "output_type": "stream",
     "text": [
      "Texte : Taratatatsointsoin\n"
     ]
    }
   ],
   "source": [
    "% Texte a encoder :\n",
    "texte = 'Taratatatsointsoin';\n",
    "\n",
    "% Affichage du texte :\n",
    "fprintf('Texte : %s\\n',texte);\n",
    "\n",
    "% Frequences d'apparition des lettres dans le texte :\n",
    "frequences = calcul_frequences(texte,alphabet);\n",
    "\n",
    "% Selection des caracteres de frequences non nulles :\n",
    "[selection_frequences,selection_alphabet] = selection(frequences,alphabet);\n"
   ]
  },
  {
   "cell_type": "code",
   "execution_count": 211,
   "metadata": {},
   "outputs": [
    {
     "name": "stdout",
     "output_type": "stream",
     "text": [
      "\n",
      "ans =\n",
      "\n",
      "     8\n",
      "\n",
      "\n",
      "frequences_triees =\n",
      "\n",
      "    0.2222\n",
      "    0.2222\n",
      "    0.1111\n",
      "    0.1111\n",
      "    0.1111\n",
      "    0.1111\n",
      "    0.0556\n",
      "    0.0556\n",
      "\n",
      "\n",
      "indices_frequences_triees =\n",
      "\n",
      "     2\n",
      "     8\n",
      "     3\n",
      "     4\n",
      "     5\n",
      "     7\n",
      "     1\n",
      "     6\n",
      "\n",
      "\n",
      "ans =\n",
      "\n",
      "    0.2222\n",
      "\n"
     ]
    }
   ],
   "source": [
    "length(selection_frequences)\n",
    "[frequences_triees, indices_frequences_triees] = sort(selection_frequences, 'descend')\n",
    "frequences_triees(1)"
   ]
  },
  {
   "cell_type": "code",
   "execution_count": 271,
   "metadata": {},
   "outputs": [
    {
     "name": "stdout",
     "output_type": "stream",
     "text": [
      "Created file '/home/jblancho/Le-TP-de-Keunotor/probas/tp/tp2/partitionnement.m'.\n"
     ]
    }
   ],
   "source": [
    "%%file partitionnement.m\n",
    "function bornes = partitionnement(selection_frequences)\n",
    "    %  crée la matrice bornes\n",
    "    [frequences_triees, indices_frequences_triees] = sort(selection_frequences, 'descend');\n",
    "    [0 0+selection_frequences(1)];\n",
    "    bornes(1, :) = [0 0+selection_frequences(1)];\n",
    "    for i = 2:length(selection_frequences)\n",
    "        bornes(i, :) = [bornes(i-1, 2) bornes(i-1, 2)+selection_frequences(i)];\n",
    "    end\n",
    "end"
   ]
  },
  {
   "cell_type": "code",
   "execution_count": 273,
   "metadata": {},
   "outputs": [
    {
     "name": "stdout",
     "output_type": "stream",
     "text": [
      "\n",
      "bornes =\n",
      "\n",
      "         0    0.0556\n",
      "    0.0556    0.2778\n",
      "    0.2778    0.3889\n",
      "    0.3889    0.5000\n",
      "    0.5000    0.6111\n",
      "    0.6111    0.6667\n",
      "    0.6667    0.7778\n",
      "    0.7778    1.0000\n",
      "\n"
     ]
    }
   ],
   "source": [
    "% Partitionnement de l'intervalle [0,1] :\n",
    "bornes = partitionnement(selection_frequences)"
   ]
  },
  {
   "cell_type": "code",
   "execution_count": 250,
   "metadata": {},
   "outputs": [
    {
     "name": "stdout",
     "output_type": "stream",
     "text": [
      "\n",
      "texte =\n",
      "\n",
      "    'Taratatatsointsoin'\n",
      "\n",
      "\n",
      "selection_alphabet =\n",
      "\n",
      "  8x1 char array\n",
      "\n",
      "    'T'\n",
      "    'a'\n",
      "    'i'\n",
      "    'n'\n",
      "    'o'\n",
      "    'r'\n",
      "    's'\n",
      "    't'\n",
      "\n"
     ]
    }
   ],
   "source": [
    "texte\n",
    "selection_alphabet"
   ]
  },
  {
   "cell_type": "code",
   "execution_count": 261,
   "metadata": {},
   "outputs": [
    {
     "name": "stdout",
     "output_type": "stream",
     "text": [
      "\n",
      "bornes =\n",
      "\n",
      "         0    0.0556\n",
      "    0.0556    0.2778\n",
      "    0.2778    0.3889\n",
      "    0.3889    0.5000\n",
      "    0.5000    0.6111\n",
      "    0.6111    0.6667\n",
      "    0.6667    0.7778\n",
      "    0.7778    1.0000\n",
      "\n",
      "\n",
      "ans =\n",
      "\n",
      "         0    0.0556\n",
      "\n"
     ]
    }
   ],
   "source": [
    "bornes\n",
    "bornes(1,:)"
   ]
  },
  {
   "cell_type": "code",
   "execution_count": 283,
   "metadata": {},
   "outputs": [
    {
     "name": "stdout",
     "output_type": "stream",
     "text": [
      "\n",
      "bornes =\n",
      "\n",
      "         0    0.0556\n",
      "    0.0556    0.2778\n",
      "    0.2778    0.3889\n",
      "    0.3889    0.5000\n",
      "    0.5000    0.6111\n",
      "    0.6111    0.6667\n",
      "    0.6667    0.7778\n",
      "    0.7778    1.0000\n",
      "\n",
      "Texte encode : 0.010795828721649\n",
      "Texte encode : 0.010795828721650\n"
     ]
    }
   ],
   "source": [
    "bornes = partitionnement(selection_frequences)\n",
    "borne_inf = 0;\n",
    "borne_sup = 1;\n",
    "for i = 1:length(texte)\n",
    "    j = find(selection_alphabet == texte(i));\n",
    "    largeur = borne_sup-borne_inf;\n",
    "    borne_sup = borne_inf+largeur*bornes(j,2);\n",
    "    borne_inf = borne_inf+largeur*bornes(j,1);\n",
    "end\n",
    "fprintf('Texte encode : %.15f\\n', borne_inf);\n",
    "fprintf('Texte encode : %.15f\\n', borne_sup);"
   ]
  },
  {
   "cell_type": "code",
   "execution_count": 284,
   "metadata": {},
   "outputs": [
    {
     "name": "stdout",
     "output_type": "stream",
     "text": [
      "Created file '/home/jblancho/Le-TP-de-Keunotor/probas/tp/tp2/codage_arithmetique.m'.\n"
     ]
    }
   ],
   "source": [
    "%%file codage_arithmetique.m\n",
    "function [borne_inf, borne_sup] = codage_arithmetique(texte, selection_alphabet, bornes)\n",
    "    % largeur = borne_sup-borne_inf;\n",
    "    % borne_sup = borne_inf+largeur*bornes(2,j);\n",
    "    % borne_inf = borne_inf+largeur*bornes(1,j);\n",
    "    borne_inf = 0;\n",
    "    borne_sup = 1;\n",
    "    for i = 1:length(texte)\n",
    "        j = find(selection_alphabet == texte(i));\n",
    "        largeur = borne_sup-borne_inf;\n",
    "        borne_sup = borne_inf+largeur*bornes(j,2);\n",
    "        borne_inf = borne_inf+largeur*bornes(j,1);\n",
    "    end\n",
    "end"
   ]
  },
  {
   "cell_type": "code",
   "execution_count": 286,
   "metadata": {},
   "outputs": [
    {
     "name": "stdout",
     "output_type": "stream",
     "text": [
      "\n",
      "borne_inf =\n",
      "\n",
      "    0.0108\n",
      "\n",
      "\n",
      "borne_sup =\n",
      "\n",
      "    0.0108\n",
      "\n"
     ]
    }
   ],
   "source": [
    "% Codage arithmetique :\n",
    "[borne_inf, borne_sup] = codage_arithmetique(texte, selection_alphabet, bornes)"
   ]
  },
  {
   "cell_type": "code",
   "execution_count": 298,
   "metadata": {},
   "outputs": [
    {
     "name": "stdout",
     "output_type": "stream",
     "text": [
      "Texte encode : 0.010795828721650\n",
      "Texte decode : Ta\n"
     ]
    }
   ],
   "source": [
    "% Choix (arbitraire) d'un nombre compris dans l'intervalle [borne_inf,borne_sup] pour encoder le texte :\n",
    "k = 1;\n",
    "while (floor(k*borne_inf)==floor(k*borne_sup))\n",
    "\tk = 10*k;\t\n",
    "end\n",
    "texte_encode = floor(k*borne_sup)/k;\n",
    "fprintf('Texte encode : %.15f\\n', texte_encode);\n",
    "\n",
    "% Decodage du texte encode :\n",
    "texte_decode = '';\n",
    "texte_encode_courant = texte_encode;\n",
    "for i = 1:length(texte)\n",
    "\tc = find((texte_encode_courant>bornes(1,:))&(texte_encode_courant<bornes(2,:)));\t% Identification du caractere\n",
    "\ttexte_decode = [texte_decode selection_alphabet(c)];\t\t\t\t% Concatenation du caractere\n",
    "\ttexte_encode_courant = (texte_encode_courant-bornes(1,c))/selection_frequences(c)';\t% Soustraction de la borne inferieure et division par la probabilite pour obtenir le caractere suivant\n",
    "end\n",
    "fprintf('Texte decode : %s\\n',texte_decode);"
   ]
  },
  {
   "cell_type": "code",
   "execution_count": 299,
   "metadata": {},
   "outputs": [
    {
     "name": "stdout",
     "output_type": "stream",
     "text": [
      "Nombre de bits du codage arithmetique : 47\n",
      "Nombre de bits du codage de Huffman : 52\n"
     ]
    }
   ],
   "source": [
    "% Calcul du nombre de bits necessaires pour encoder la partie decimale :\n",
    "dec_texte_encode = texte_encode*k;\t\t\t\t\t% Partie decimale\n",
    "nb_bits_codage_arithmetique = length(dec2bin(dec_texte_encode));\t% Conversion de la partie decimale en binaire (dec2bin)\n",
    "fprintf('Nombre de bits du codage arithmetique : %d\\n',nb_bits_codage_arithmetique);\n",
    "\n",
    "% Comparaison avec le codage de Huffman :\n",
    "dico = huffmandict(num2cell(selection_alphabet),selection_frequences);\n",
    "texte_encode = huffmanenco(texte,dico);\n",
    "nb_bits_codage_Huffman = length(texte_encode);\n",
    "fprintf('Nombre de bits du codage de Huffman : %d\\n',nb_bits_codage_Huffman);"
   ]
  },
  {
   "cell_type": "code",
   "execution_count": null,
   "metadata": {},
   "outputs": [],
   "source": []
  }
 ],
 "metadata": {
  "kernelspec": {
   "display_name": "Matlab",
   "language": "matlab",
   "name": "matlab"
  },
  "language_info": {
   "codemirror_mode": "octave",
   "file_extension": ".m",
   "help_links": [
    {
     "text": "MetaKernel Magics",
     "url": "https://metakernel.readthedocs.io/en/latest/source/README.html"
    }
   ],
   "mimetype": "text/x-octave",
   "name": "matlab",
   "version": "0.16.9"
  }
 },
 "nbformat": 4,
 "nbformat_minor": 2
}
