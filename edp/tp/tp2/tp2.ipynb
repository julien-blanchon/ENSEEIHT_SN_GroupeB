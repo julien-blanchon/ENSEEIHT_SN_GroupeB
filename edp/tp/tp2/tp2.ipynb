{
 "cells": [
  {
   "cell_type": "markdown",
   "metadata": {},
   "source": [
    "## TP 2"
   ]
  },
  {
   "cell_type": "markdown",
   "metadata": {},
   "source": [
    "$$\\left\\{\\begin{array}{l}\n",
    "\\left.\\frac{\\partial u}{\\partial t}(x, t)+a \\frac{\\partial u}{\\partial x}(x, t)=0, \\quad \\forall(x, t) \\in\\right] 0, L[\\times] 0, T[ \\\\\n",
    "u(0, t)=u(L, t)=0, \\quad \\forall t \\in] 0, T[ \\\\\n",
    "\\left.u(x, 0)=u_{0}(x), \\quad \\forall x \\in\\right] 0, L[\n",
    "\\end{array}\\right.$$"
   ]
  },
  {
   "cell_type": "code",
   "execution_count": 197,
   "metadata": {},
   "outputs": [
    {
     "name": "stdout",
     "output_type": "stream",
     "text": [
      "Created file '/home/jblancho/Le-TP-de-Keunotor/edp/tp/tp2/advection.m'.\n"
     ]
    }
   ],
   "source": [
    "%%file advection.m\n",
    "function advection(scheme,Nt,Nx)\n",
    "% Script calculant une approximation de la solution du probl�me\n",
    "% d'advection lin�aire 1D.\n",
    "%\n",
    "%  Inputs\n",
    "%  ------\n",
    "%\n",
    "% scheme : sch�ma num�rique � utiliser.\n",
    "%\n",
    "% Nt : nombre de pas de temps.\n",
    "%\n",
    "% Nx: nombre de pas d'espace.\n",
    "%\n",
    "% Exemple: advection('LaxWendroff',200,500);\n",
    "\n",
    "\n",
    "% Cadre experimental\n",
    "a=1.; % vitesse\n",
    "L=3; % longueur du domaine spatial.\n",
    "T=1; % longueur de la fen�tre temporelle.\n",
    "ic=1; % condition initiale : 0 -> porte, sinon densit� gaussienne\n",
    "\n",
    "% D�finition de la grille\n",
    "dx=L/(Nx+1);\n",
    "dt=T/(Nt+1);\n",
    "xx=0:Nx+1;\n",
    "xx=xx';\n",
    "%dt=dx/a;\n",
    "\n",
    "% Nombre de Courant\n",
    "lambda=a*dt/dx\n",
    "\n",
    "% Condition initiale\n",
    "u0=zeros(Nx+2,1);\n",
    "u0=reference(ic,lambda,Nx,dx,0);\n",
    "rmse=zeros(Nt+1,1);\n",
    "\n",
    "% Boucle temporelle\n",
    "uh=u0;\n",
    "% u(x, t) = ux[t]\n",
    "\n",
    "for k=1:Nt+1\n",
    "    \n",
    "    if scheme == 1 %Explicite\n",
    "      % int�rieur du domain\n",
    "      uh(2:end-1) = (1-lambda)*uh(2:end-1) + lambda*uh(1:end-2)\n",
    "      % Conditions aux limites\n",
    "      uh(1) = 0; %u(x=0, t=k) = 0\n",
    "      uh(end) = 0; %u(x=L, t=k) = 0\n",
    "    elseif scheme == 2 %Implicite\n",
    "      % int�rieur du domain\n",
    "      A = spdiags(ones(Nx,1)*[-lambda/2, 1, lambda/2], [-1, 0, 1], Nx, Nx);\n",
    "      uh(2:end-1) = A\\uh(2:end-1);\n",
    "      % Conditions aux limites\n",
    "      uh(1) = 0; %u(x=0, t=k) = 0\n",
    "      uh(end) = 0; %u(x=L, t=k) = 0\n",
    "    elseif scheme == 3 %Implicite\n",
    "      % int�rieur du domain\n",
    "      uh(2:end-1) = uh(2:end-1) - (lambda/2)*(uh(3:end) - uh(1:end-2)) + (lambda^2/2)*(uh(3:end) - 2.*uh(2:end-1) + uh(1:end-2));\n",
    "      % Conditions aux limites\n",
    "      uh(1) = 0; %u(x=0, t=k) = 0\n",
    "      uh(end) = 0; %u(x=L, t=k) = 0\n",
    "    end\n",
    "  %Erreur RMS\n",
    "  uref=reference(ic,lambda,Nx,dx,k);\n",
    "  rmse(k)=norm(uh-uref,2)/norm(uref,2);\n",
    "\n",
    "  % Affichage de la solution\n",
    "  figure(1)\n",
    "  plot(dx*xx,uh,'b-',dx*xx,uref,'r-');\n",
    "  axis([0 L -1 max(abs(u0))+1]);\n",
    "  legend('Solution numerique','Solution de reference');\n",
    "  xlabel('Domaine spatial')\n",
    "  ylabel('u')\n",
    "  pause(0.1);\n",
    "end\n",
    "\n",
    "  % Affichage de l'erreur RMS\n",
    "  figure(2)\n",
    "  plot(rmse);\n",
    "  legend('Erreur RMS')\n",
    "\n",
    "end\n"
   ]
  },
  {
   "cell_type": "markdown",
   "metadata": {},
   "source": [
    "## scheme = 1"
   ]
  },
  {
   "cell_type": "markdown",
   "metadata": {},
   "source": [
    "$$ u_{x}^{1} = (1-\\lambda)u_{x}^{0} + \\lambda u_{x-1}^{0} $$\n",
    "$$u_{0}^{1} = 0 $$\n",
    "$$u_{L}^{1} = 0$$"
   ]
  },
  {
   "cell_type": "markdown",
   "metadata": {},
   "source": [
    "## scheme = 2"
   ]
  },
  {
   "cell_type": "markdown",
   "metadata": {},
   "source": []
  },
  {
   "cell_type": "markdown",
   "metadata": {},
   "source": [
    "## scheme = 3"
   ]
  },
  {
   "cell_type": "markdown",
   "metadata": {},
   "source": []
  },
  {
   "cell_type": "code",
   "execution_count": 189,
   "metadata": {},
   "outputs": [],
   "source": [
    "scheme = 3;\n",
    "Nt = 10;\n",
    "Nx = 30;"
   ]
  },
  {
   "cell_type": "code",
   "execution_count": 190,
   "metadata": {},
   "outputs": [],
   "source": [
    "% Cadre experimental\n",
    "a=1.; % vitesse\n",
    "L=3; % longueur du domaine spatial.\n",
    "T=1; % longueur de la fen�tre temporelle.\n",
    "ic=1; % condition initiale : 0 -> porte, sinon densit� gaussienne"
   ]
  },
  {
   "cell_type": "code",
   "execution_count": 191,
   "metadata": {},
   "outputs": [],
   "source": [
    "% D�finition de la grille\n",
    "dx=L/(Nx+1);\n",
    "dt=T/(Nt+1);\n",
    "xx=0:Nx+1;\n",
    "xx=xx';\n",
    "%dt=dx/a;"
   ]
  },
  {
   "cell_type": "code",
   "execution_count": 192,
   "metadata": {},
   "outputs": [
    {
     "name": "stdout",
     "output_type": "stream",
     "text": [
      "\n",
      "lambda =\n",
      "\n",
      "    0.9394\n",
      "\n"
     ]
    }
   ],
   "source": [
    "% Nombre de Courant\n",
    "lambda=a*dt/dx"
   ]
  },
  {
   "cell_type": "code",
   "execution_count": 193,
   "metadata": {},
   "outputs": [],
   "source": [
    "% Condition initiale\n",
    "u0=zeros(Nx+2,1);\n",
    "u0=reference(ic,lambda,Nx,dx,0);\n",
    "rmse=zeros(Nt+1,1);"
   ]
  },
  {
   "cell_type": "code",
   "execution_count": 194,
   "metadata": {},
   "outputs": [],
   "source": [
    "% Boucle temporelle\n",
    "uh=u0;\n",
    "% u(x, t) = ux[t]\n",
    "% ux[t+1] = (1-lambda)*ux[t]+lambda*ux[t-1]\n",
    "% Cond: ux[0] = reference(ic,lambda,Nx,dx,k)\n",
    "size(uh(1:end));\n",
    "Nx+2;"
   ]
  },
  {
   "cell_type": "code",
   "execution_count": 196,
   "metadata": {},
   "outputs": [
    {
     "data": {
      "image/png": "[encoded data removed]",
      "text/plain": [
       "<IPython.core.display.Image object>"
      ]
     },
     "metadata": {},
     "output_type": "display_data"
    }
   ],
   "source": [
    "for k=1:Nt+1\n",
    "    \n",
    "    if scheme == 1 %Explicite\n",
    "      % int�rieur du domain\n",
    "      uh(2:end-1) = (1-lambda)*uh(2:end-1) + lambda*uh(1:end-2)\n",
    "      % Conditions aux limites\n",
    "      uh(1) = 0; %u(x=0, t=k) = 0\n",
    "      uh(end) = 0; %u(x=L, t=k) = 0\n",
    "    elseif scheme == 2 %Implicite\n",
    "      % int�rieur du domain\n",
    "      A = spdiags(ones(Nx,1)*[-lambda/2, 1, lambda/2], [-1, 0, 1], Nx, Nx);\n",
    "      uh(2:end-1) = A\\uh(2:end-1);\n",
    "      % Conditions aux limites\n",
    "      uh(1) = 0; %u(x=0, t=k) = 0\n",
    "      uh(end) = 0; %u(x=L, t=k) = 0\n",
    "    elseif scheme == 3 %Implicite\n",
    "      % int�rieur du domain\n",
    "      uh(2:end-1) = uh(2:end-1) - (lambda/2)*(uh(3:end) - uh(1:end-2)) + (lambda^2/2)*(uh(3:end) - 2.*uh(2:end-1) + uh(1:end-2));\n",
    "      % Conditions aux limites\n",
    "      uh(1) = 0; %u(x=0, t=k) = 0\n",
    "      uh(end) = 0; %u(x=L, t=k) = 0\n",
    "    end\n",
    "  %Erreur RMS\n",
    "  uref=reference(ic,lambda,Nx,dx,k);\n",
    "  rmse(k)=norm(uh-uref,2)/norm(uref,2);\n",
    "\n",
    "  % Affichage de la solution\n",
    "  figure(1)\n",
    "  plot(dx*xx,uh,'b-',dx*xx,uref,'r-');\n",
    "  axis([0 L -1 max(abs(u0))+1]);\n",
    "  legend('Solution numerique','Solution de reference');\n",
    "  xlabel('Domaine spatial')\n",
    "  ylabel('u')\n",
    "  pause(0.1);\n",
    "end"
   ]
  },
  {
   "cell_type": "code",
   "execution_count": null,
   "metadata": {},
   "outputs": [],
   "source": []
  }
 ],
 "metadata": {
  "kernelspec": {
   "display_name": "Matlab",
   "language": "matlab",
   "name": "matlab"
  },
  "language_info": {
   "codemirror_mode": "octave",
   "file_extension": ".m",
   "help_links": [
    {
     "text": "MetaKernel Magics",
     "url": "https://metakernel.readthedocs.io/en/latest/source/README.html"
    }
   ],
   "mimetype": "text/x-octave",
   "name": "matlab",
   "version": "0.16.9"
  }
 },
 "nbformat": 4,
 "nbformat_minor": 2
}
