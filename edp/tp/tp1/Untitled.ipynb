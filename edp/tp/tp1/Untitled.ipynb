{
 "cells": [
  {
   "cell_type": "markdown",
   "metadata": {},
   "source": [
    "# TP1 : Laplacien anisotropique"
   ]
  },
  {
   "cell_type": "markdown",
   "metadata": {},
   "source": [
    "$$ \\left\\{\\begin{array}{l}\n",
    "\\forall(i, j) \\in 1, N_{1} \\times 1, N_{2} \\\\\n",
    "-\\nu_{1} \\frac{u_{i+1, j}-2 u_{i, j}+u_{i-1, j}}{h_{1}^{2}}-\\nu_{2} \\frac{u_{i, j+1}-2 u_{i, j}+u_{i, j-1}}{h_{2}^{2}}=c\\left(x_{i, j}\\right) \\\\\n",
    "\\forall i \\in\\left\\{0, N_{1}+1\\right\\}, \\forall j \\in 1, N_{2}, \\quad u_{i, j}=0 \\\\\n",
    "\\forall j \\in\\left\\{0, N_{2}+1\\right\\}, \\forall i \\in 1, N_{1}, \\quad u_{i, j}=0\n",
    "\\end{array}\\right. $$"
   ]
  },
  {
   "cell_type": "code",
   "execution_count": 129,
   "metadata": {},
   "outputs": [
    {
     "name": "stdout",
     "output_type": "stream",
     "text": [
      "\n",
      "nu =\n",
      "\n",
      "     1\n",
      "     4\n",
      "\n",
      "\n",
      "dx1 =\n",
      "\n",
      "     1\n",
      "\n",
      "\n",
      "dx2 =\n",
      "\n",
      "     2\n",
      "\n",
      "\n",
      "N1 =\n",
      "\n",
      "     3\n",
      "\n",
      "\n",
      "N2 =\n",
      "\n",
      "     3\n",
      "\n"
     ]
    }
   ],
   "source": [
    "nu = [1;4]\n",
    "dx1 = 1\n",
    "dx2 = 2\n",
    "N1 = 3\n",
    "N2 = 3"
   ]
  },
  {
   "cell_type": "code",
   "execution_count": 99,
   "metadata": {},
   "outputs": [
    {
     "name": "stdout",
     "output_type": "stream",
     "text": [
      "Created file '/home/jblancho/Le-TP-de-Keunotor/edp/tp/tp1/laplacian.m'.\n"
     ]
    }
   ],
   "source": [
    "%%file laplacian2.m\n",
    "function L = laplacian2(nu,dx1,dx2,N1,N2)\n",
    "%\n",
    "%  Cette fonction construit la matrice de l'opérateur Laplacien 2D anisotrope\n",
    "%\n",
    "%  Inputs\n",
    "%  ------\n",
    "%\n",
    "%  nu : nu=[nu1;nu2], coefficients de diffusivité dans les dierctions x1 et x2. \n",
    "%\n",
    "%  dx1 : pas d'espace dans la direction x1.\n",
    "%\n",
    "%  dx2 : pas d'espace dans la direction x2.\n",
    "%\n",
    "%  N1 : nombre de points de grille dans la direction x1.\n",
    "%\n",
    "%  N2 : nombre de points de grilles dans la direction x2.\n",
    "%\n",
    "%  Outputs:\n",
    "%  -------\n",
    "%\n",
    "%  L      : Matrice de l'opérateur Laplacien (dimension N1N2 x N1N2)\n",
    "%\n",
    "% \n",
    "\n",
    "% Initialisation\n",
    "b1 = nu(1)/dx1^2;\n",
    "b2 = nu(2)/dx2^2;\n",
    "a = 2*(b1+b2);\n",
    "\n",
    "L = spdiags(ones(N1*N2,1).*[-b1 -b2 a -b2 -b1], [-N2, -1, 0, 1, N2], N1*N2, N1*N2);\n",
    "end"
   ]
  },
  {
   "cell_type": "code",
   "execution_count": 135,
   "metadata": {},
   "outputs": [
    {
     "name": "stdout",
     "output_type": "stream",
     "text": [
      "Created file '/home/jblancho/Le-TP-de-Keunotor/edp/tp/tp1/laplacian.m'.\n"
     ]
    }
   ],
   "source": [
    "%%file laplacian.m\n",
    "function L = laplacian(nu,dx1,dx2,N1,N2)\n",
    "%\n",
    "%  Cette fonction construit la matrice de l'opérateur Laplacien 2D anisotrope\n",
    "%\n",
    "%  Inputs\n",
    "%  ------\n",
    "%\n",
    "%  nu : nu=[nu1;nu2], coefficients de diffusivité dans les dierctions x1 et x2. \n",
    "%\n",
    "%  dx1 : pas d'espace dans la direction x1.\n",
    "%\n",
    "%  dx2 : pas d'espace dans la direction x2.\n",
    "%\n",
    "%  N1 : nombre de points de grille dans la direction x1.\n",
    "%\n",
    "%  N2 : nombre de points de grilles dans la direction x2.\n",
    "%\n",
    "%  Outputs:\n",
    "%  -------\n",
    "%\n",
    "%  L      : Matrice de l'opérateur Laplacien (dimension N1N2 x N1N2)\n",
    "%\n",
    "% \n",
    "\n",
    "% Initialisation\n",
    "b1 = nu(1)/dx1^2;\n",
    "b2 = nu(2)/dx2^2;\n",
    "a = 2*(b1+b2);\n",
    "\n",
    "A = spdiags(ones(N2,1)*[-b2 a -b2], -1:1, N2, N2);\n",
    "D = spdiags(ones(N2,1)*[-b1], 0, N2, N2);\n",
    "\n",
    "L   = sparse([]);\n",
    "    for i = 1:N1\n",
    "       is = ( i - 1 ) * N2+1;\n",
    "       ie = i * N2;\n",
    "       L(is:ie,is:ie) = A;\n",
    "       if ( i < N1 )\n",
    "          L(is:ie,ie+1:ie+N2) = D;\n",
    "          L(ie+1:ie+N2,is:ie) = D;\n",
    "       end\n",
    "    end\n",
    "    is = ( N1 - 1 ) * N2 + 1;\n",
    "end"
   ]
  },
  {
   "cell_type": "code",
   "execution_count": 136,
   "metadata": {},
   "outputs": [
    {
     "name": "stdout",
     "output_type": "stream",
     "text": [
      "\n",
      "L1 =\n",
      "\n",
      "     4    -1     0    -1     0     0     0     0     0\n",
      "    -1     4    -1     0    -1     0     0     0     0\n",
      "     0    -1     4    -1     0    -1     0     0     0\n",
      "    -1     0    -1     4    -1     0    -1     0     0\n",
      "     0    -1     0    -1     4    -1     0    -1     0\n",
      "     0     0    -1     0    -1     4    -1     0    -1\n",
      "     0     0     0    -1     0    -1     4    -1     0\n",
      "     0     0     0     0    -1     0    -1     4    -1\n",
      "     0     0     0     0     0    -1     0    -1     4\n",
      "\n"
     ]
    }
   ],
   "source": [
    "L1 = full(laplacian(nu,dx1,dx2,N1,N2))"
   ]
  },
  {
   "cell_type": "code",
   "execution_count": 137,
   "metadata": {},
   "outputs": [
    {
     "name": "stdout",
     "output_type": "stream",
     "text": [
      "\n",
      "L2 =\n",
      "\n",
      "     4    -1     0    -1     0     0     0     0     0\n",
      "    -1     4    -1     0    -1     0     0     0     0\n",
      "     0    -1     4     0     0    -1     0     0     0\n",
      "    -1     0     0     4    -1     0    -1     0     0\n",
      "     0    -1     0    -1     4    -1     0    -1     0\n",
      "     0     0    -1     0    -1     4     0     0    -1\n",
      "     0     0     0    -1     0     0     4    -1     0\n",
      "     0     0     0     0    -1     0    -1     4    -1\n",
      "     0     0     0     0     0    -1     0    -1     4\n",
      "\n"
     ]
    }
   ],
   "source": [
    "L2 = full(laplacian2(nu,dx1,dx2,N1,N2))"
   ]
  },
  {
   "cell_type": "code",
   "execution_count": 138,
   "metadata": {},
   "outputs": [
    {
     "name": "stdout",
     "output_type": "stream",
     "text": [
      "\n",
      "ans =\n",
      "\n",
      "  9x9 logical array\n",
      "\n",
      "   1   1   1   1   1   1   1   1   1\n",
      "   1   1   1   1   1   1   1   1   1\n",
      "   1   1   1   0   1   1   1   1   1\n",
      "   1   1   0   1   1   1   1   1   1\n",
      "   1   1   1   1   1   1   1   1   1\n",
      "   1   1   1   1   1   1   0   1   1\n",
      "   1   1   1   1   1   0   1   1   1\n",
      "   1   1   1   1   1   1   1   1   1\n",
      "   1   1   1   1   1   1   1   1   1\n",
      "\n"
     ]
    }
   ],
   "source": [
    "L1 == L2"
   ]
  },
  {
   "cell_type": "code",
   "execution_count": 139,
   "metadata": {},
   "outputs": [
    {
     "name": "stdout",
     "output_type": "stream",
     "text": [
      "Created file '/home/jblancho/Le-TP-de-Keunotor/edp/tp/tp1/forcing.m'.\n"
     ]
    }
   ],
   "source": [
    "%%file forcing.m\n",
    "function b=forcing(nu, dx1, dx2, N1, N2)\n",
    "%\n",
    "%  Cette fonction construit le vecteur de forçage de l'EDP\n",
    "%\n",
    "%  Inputs\n",
    "%  ------\n",
    "%\n",
    "%  nu : nu=[nu1;nu2], coefficients de diffusivité dans les dierctions x1 et x2. \n",
    "%\n",
    "%  dx1 : pas d'espace dans la direction x1.\n",
    "%\n",
    "%  dx2 : pas d'espace dans la direction x2.\n",
    "%\n",
    "%  N1 : nombre de points de grille dans la direction x1.\n",
    "%\n",
    "%  N2 : nombre de points de grilles dans la direction x2.\n",
    "%\n",
    "%  Outputs:\n",
    "%  -------\n",
    "%\n",
    "%  b      : vecteur de forçage (dimension N1N2)\n",
    "%\n",
    "% \n",
    "\n",
    "% Initialisation\n",
    "\n",
    "b= -ones(N1*N2,1);\n",
    "\n",
    "end"
   ]
  },
  {
   "cell_type": "code",
   "execution_count": 140,
   "metadata": {},
   "outputs": [
    {
     "name": "stdout",
     "output_type": "stream",
     "text": [
      "\n",
      "ans =\n",
      "\n",
      "    -1\n",
      "    -1\n",
      "    -1\n",
      "    -1\n",
      "    -1\n",
      "    -1\n",
      "    -1\n",
      "    -1\n",
      "    -1\n",
      "\n"
     ]
    }
   ],
   "source": [
    "forcing(nu,dx1,dx2,N1,N2)"
   ]
  },
  {
   "cell_type": "code",
   "execution_count": 143,
   "metadata": {},
   "outputs": [
    {
     "name": "stdout",
     "output_type": "stream",
     "text": [
      "Created file '/home/jblancho/Le-TP-de-Keunotor/edp/tp/tp1/diffusivity.m'.\n"
     ]
    }
   ],
   "source": [
    "%%file diffusivity.m\n",
    "function [uhref]=diffusivity(nu,L1,L2,N1,N2)\n",
    "%\n",
    "%  Cette fonction résoud le problème du calcul d'une solution du Laplacien anisotrope. \n",
    "%\n",
    "%  Inputs\n",
    "%  ------\n",
    "%\n",
    "%  nu: [nu1;nu2] valeurs des paramètres de diffusivité.\n",
    "%\n",
    "%  L1 : longeur du domaine dans la direction x1.\n",
    "%\n",
    "%  L2 : longueur du domaine dans la direction x2.\n",
    "%\n",
    "%  N1 :  nombre de points de grille dans la direction x1.\n",
    "%\n",
    "%  N2 :  nombre de points de grille dans la direction x2.\n",
    "%  \n",
    "%\n",
    "%  Outputs:\n",
    "%  -------\n",
    "%\n",
    "%  uhref : vecteur de taille N1*N2 contenant une approximation de la solution\n",
    "%\n",
    "% Ajout du repertoire Affichage à l'environnement\n",
    "  addpath('Affichage');\n",
    "\n",
    "% Construction de la grille\n",
    " dx1 = L1/(N1+1);\n",
    " dx2 = L2/(N2+1);\n",
    "\n",
    "% Calcul de la solution\n",
    "%%%%%%%%%%%%%%%%%%%%%%%%%%%%%%%%%%%%%%%%%%%%%%%%%%%%%%%%%%%%%%%%%%%%%%%%%\n",
    " \n",
    "\n",
    "   % Calcul de la matrice du systeme\n",
    "\n",
    "   L = laplacian(nu,dx1,dx2,N1,N2);\n",
    "   c = forcing(nu,dx1,dx2,N1,N2);\n",
    "\n",
    "    % L*u = c\n",
    "   uhref=L\\c;\n",
    "      \n",
    "  %Affichage de la solution approximee\n",
    "  fig_ref = plot_uh(uhref,dx1,dx2,N1,N2,2); drawnow;\n",
    "  \n",
    "end\n",
    "\n"
   ]
  },
  {
   "cell_type": "code",
   "execution_count": 144,
   "metadata": {},
   "outputs": [
    {
     "name": "stdout",
     "output_type": "stream",
     "text": [
      "\n",
      "uhref =\n",
      "\n",
      "   -0.0430\n",
      "   -0.0547\n",
      "   -0.0430\n",
      "   -0.0547\n",
      "   -0.0703\n",
      "   -0.0547\n",
      "   -0.0430\n",
      "   -0.0547\n",
      "   -0.0430\n",
      "\n"
     ]
    },
    {
     "data": {
      "image/png": "[encoded data removed]",
      "text/plain": [
       "<IPython.core.display.Image object>"
      ]
     },
     "metadata": {},
     "output_type": "display_data"
    }
   ],
   "source": [
    "L1 = dx1;\n",
    "L2 = dx2;\n",
    "[uhref] = diffusivity(nu,L1,L2,N1,N2)"
   ]
  },
  {
   "cell_type": "code",
   "execution_count": null,
   "metadata": {},
   "outputs": [],
   "source": [
    "%%file laplacian3.m\n",
    "function L = laplacian2(nu,dx1,dx2,N1,N2)\n",
    "%\n",
    "%  Cette fonction construit la matrice de l'opérateur Laplacien 2D anisotrope\n",
    "%\n",
    "%  Inputs\n",
    "%  ------\n",
    "%\n",
    "%  nu : nu=[nu1;nu2], coefficients de diffusivité dans les dierctions x1 et x2. \n",
    "%\n",
    "%  dx1 : pas d'espace dans la direction x1.\n",
    "%\n",
    "%  dx2 : pas d'espace dans la direction x2.\n",
    "%\n",
    "%  N1 : nombre de points de grille dans la direction x1.\n",
    "%\n",
    "%  N2 : nombre de points de grilles dans la direction x2.\n",
    "%\n",
    "%  Outputs:\n",
    "%  -------\n",
    "%\n",
    "%  L      : Matrice de l'opérateur Laplacien (dimension N1N2 x N1N2)\n",
    "%\n",
    "% \n",
    "\n",
    "% Initialisation\n",
    "b1 = nu(1)/dx1^2;\n",
    "b2 = nu(2)/dx2^2;\n",
    "a = 2*(b1+b2);\n",
    "\n",
    "L = spdiags(ones(N1*N2,1).*[-b1 -b2 a -b2 -b1], [-N2, -1, 0, 1, N2], N1*N2, N1*N2);\n",
    "end"
   ]
  },
  {
   "cell_type": "code",
   "execution_count": null,
   "metadata": {},
   "outputs": [],
   "source": []
  }
 ],
 "metadata": {
  "kernelspec": {
   "display_name": "Matlab",
   "language": "matlab",
   "name": "matlab"
  },
  "language_info": {
   "codemirror_mode": "octave",
   "file_extension": ".m",
   "help_links": [
    {
     "text": "MetaKernel Magics",
     "url": "https://metakernel.readthedocs.io/en/latest/source/README.html"
    }
   ],
   "mimetype": "text/x-octave",
   "name": "matlab",
   "version": "0.16.9"
  }
 },
 "nbformat": 4,
 "nbformat_minor": 2
}
